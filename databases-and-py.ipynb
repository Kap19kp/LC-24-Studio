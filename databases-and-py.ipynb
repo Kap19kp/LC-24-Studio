{
    "metadata": {
        "kernelspec": {
            "name": "python3",
            "display_name": "Python 3 (ipykernel)",
            "language": "python"
        },
        "language_info": {
            "name": "python",
            "version": "3.11.2",
            "mimetype": "text/x-python",
            "codemirror_mode": {
                "name": "ipython",
                "version": 3
            },
            "pygments_lexer": "ipython3",
            "nbconvert_exporter": "python",
            "file_extension": ".py"
        }
    },
    "nbformat_minor": 2,
    "nbformat": 4,
    "cells": [
        {
            "cell_type": "markdown",
            "source": [
                "# Studio: Working with Databases in Python\n",
                "\n",
                "For today's studio, we will be using the [TV Shows dataset](https://www.kaggle.com/ruchi798/tv-shows-on-netflix-prime-video-hulu-and-disney) from Kaggle. We have already downloaded the CSV for you.\n",
                "\n",
                "You will also be using the watchlist you just created to figure out which streaming services contain the shows that you want to watch next so you can decide which one is worth the money to you.\n",
                "\n",
                "As you complete the different tasks in the studio, you may choose between using Pandas or SQL. Remember that during the prep work, we learned that one is oftentimes more efficient at certain tasks than the other, so choose wisely!"
            ],
            "metadata": {
                "azdata_cell_guid": "54326aff-51cd-4766-8046-828a92489c6d"
            }
        },
        {
            "cell_type": "markdown",
            "source": [
                "## My Watchlist\n",
                "\n",
                "If you would like, please use this space to make note of your watchlist by editing the text cell.\n",
                "\n",
                "Watchlist:\n",
                "\n",
                "Supernatural\n",
                "\n",
                "Seinfield\n",
                "\n",
                "Modern Family\n",
                "\n",
                "Amazing Races\n",
                "\n",
                "Next Level Chef\n",
                "\n",
                "One Tree Hill\n",
                "\n",
                "Gossip Girl\n",
                "\n",
                "Gilmore Girls\n",
                "\n",
                "Fire Country\n",
                "\n",
                "Chicago Fire"
            ],
            "metadata": {
                "azdata_cell_guid": "00bc62ef-6c46-40a2-bdad-a3250a003ce7"
            },
            "attachments": {}
        },
        {
            "cell_type": "markdown",
            "source": [
                "## Database Setup\n",
                "\n",
                "To start with, import the necessary libraries and create a dataframe from the provided CSV. Print the info out for the dataframe. After that, you may drop the column called `Unnamed: 0` and rename any columns with spaces in the names or unusual characters such as `\"+\"`. Print out the info for the dataframe again to ensure that your changes were effective."
            ],
            "metadata": {
                "azdata_cell_guid": "040bdac5-f7fc-474f-b112-1d807249ad0a"
            }
        },
        {
            "cell_type": "code",
            "source": [
                "import sqlite3 as sl\n",
                "import pandas as pd\n",
                "\n",
                "df = pd.read_csv(\"tv_shows.csv\")\n",
                "\n",
                "df = df.drop(columns=['Unnamed: 0'])\n",
                "\n",
                "df['Age'] = df[\"Age\"].str.replace('+', '')\n",
                "df = df.rename(columns ={'Rotten Tomatoes': 'Rotten_Tomatoes', 'Prime Video': 'Prime_Video', 'Disney+': 'Disney'} )\n",
                "\n",
                "print(df.head())"
            ],
            "metadata": {
                "azdata_cell_guid": "965f15d3-27b1-43ed-97e4-8c6fd482476c",
                "tags": [],
                "language": "python"
            },
            "outputs": [
                {
                    "name": "stdout",
                    "text": "   ID             Title  Year Age    IMDb Rotten_Tomatoes  Netflix  Hulu  \\\n0   1      Breaking Bad  2008  18  9.4/10         100/100        1     0   \n1   2   Stranger Things  2016  16  8.7/10          96/100        1     0   \n2   3   Attack on Titan  2013  18  9.0/10          95/100        1     1   \n3   4  Better Call Saul  2015  18  8.8/10          94/100        1     0   \n4   5              Dark  2017  16  8.8/10          93/100        1     0   \n\n   Prime_Video  Disney  Type  \n0            0       0     1  \n1            0       0     1  \n2            0       0     1  \n3            0       0     1  \n4            0       0     1  \n",
                    "output_type": "stream"
                },
                {
                    "name": "stderr",
                    "text": "C:\\Users\\kap19\\AppData\\Local\\Temp\\ipykernel_19068\\1975674892.py:8: FutureWarning: The default value of regex will change from True to False in a future version. In addition, single character regular expressions will *not* be treated as literal strings when regex=True.\n  df['Age'] = df[\"Age\"].str.replace('+', '')\n",
                    "output_type": "stream"
                }
            ],
            "execution_count": 91
        },
        {
            "cell_type": "markdown",
            "source": [
                "With your dataframe at the ready, create a new database called `tv`. Add a new table to your database called `shows` using the data in the dataframe. "
            ],
            "metadata": {
                "azdata_cell_guid": "93875e01-f1ec-45ab-b8b3-c0fe09c89c41"
            }
        },
        {
            "cell_type": "code",
            "source": [
                "con = sl.connect(\"tv.db\")\r\n",
                "\r\n",
                "df.to_sql('shows1', con)"
            ],
            "metadata": {
                "azdata_cell_guid": "cae4affc-d930-4649-9c39-551475a83b5b",
                "tags": [],
                "language": "python"
            },
            "outputs": [
                {
                    "data": {
                        "text/plain": "5368"
                    },
                    "metadata": {},
                    "execution_count": 95,
                    "output_type": "execute_result"
                }
            ],
            "execution_count": 95
        },
        {
            "cell_type": "markdown",
            "source": [
                "With your new table and database set up, print out the top 20 records in the `shows` table."
            ],
            "metadata": {
                "azdata_cell_guid": "4916f211-149f-467b-b5e4-22ad946b54f2"
            }
        },
        {
            "cell_type": "code",
            "source": [
                "print(df.head(20))"
            ],
            "metadata": {
                "azdata_cell_guid": "c6aa3980-3eef-4d7d-8f04-961508662147",
                "tags": [],
                "language": "python"
            },
            "outputs": [
                {
                    "name": "stdout",
                    "text": "    ID                       Title  Year Age    IMDb Rotten_Tomatoes  Netflix  \\\n0    1                Breaking Bad  2008  18  9.4/10         100/100        1   \n1    2             Stranger Things  2016  16  8.7/10          96/100        1   \n2    3             Attack on Titan  2013  18  9.0/10          95/100        1   \n3    4            Better Call Saul  2015  18  8.8/10          94/100        1   \n4    5                        Dark  2017  16  8.8/10          93/100        1   \n5    6  Avatar: The Last Airbender  2005   7  9.3/10          93/100        1   \n6    7              Peaky Blinders  2013  18  8.8/10          93/100        1   \n7    8            The Walking Dead  2010  18  8.2/10          93/100        1   \n8    9                Black Mirror  2011  18  8.8/10          92/100        1   \n9   10          The Queen's Gambit  2020  18  8.6/10          92/100        1   \n10  11                  Mindhunter  2017  18  8.6/10          90/100        1   \n11  12                   Community  2009   7  8.5/10          90/100        1   \n12  13                      Narcos  2015  18  8.8/10          90/100        1   \n13  14                   Shameless  2011  18  8.5/10          90/100        1   \n14  15                 Money Heist  2017  18  8.3/10          90/100        1   \n15  16          Marvel's Daredevil  2015  18  8.6/10          90/100        1   \n16  17                     Lucifer  2016  16  8.1/10          90/100        1   \n17  18                Supernatural  2005  16  8.4/10          89/100        1   \n18  19                 The Witcher  2019  18  8.2/10          89/100        1   \n19  20                       Ozark  2017  18  8.4/10          89/100        1   \n\n    Hulu  Prime_Video  Disney+  Type  \n0      0            0        0     1  \n1      0            0        0     1  \n2      1            0        0     1  \n3      0            0        0     1  \n4      0            0        0     1  \n5      0            1        0     1  \n6      0            0        0     1  \n7      0            0        0     1  \n8      0            0        0     1  \n9      0            0        0     1  \n10     0            0        0     1  \n11     1            1        0     1  \n12     0            0        0     1  \n13     1            1        0     1  \n14     0            0        0     1  \n15     0            0        0     1  \n16     0            0        0     1  \n17     0            0        0     1  \n18     0            0        0     1  \n19     0            0        0     1  \n",
                    "output_type": "stream"
                }
            ],
            "execution_count": 62
        },
        {
            "cell_type": "markdown",
            "source": [
                "Now add a table that includes an id number and the titles on your watchlist."
            ],
            "metadata": {
                "azdata_cell_guid": "f158ccd2-c87a-4d2c-a947-0eadd0484a3e"
            }
        },
        {
            "cell_type": "code",
            "source": [
                "with con:\r\n",
                "    con.execute('''\r\n",
                "    CREATE TABLE watchlist_top_10 (\r\n",
                "        title TEXT);\r\n",
                "    ''')\r\n",
                "\r\n",
                "sql = 'INSERT INTO watchlist_top_10 (title) VALUES (?)'\r\n",
                "data = [\r\n",
                "    ('Supernatural'),\r\n",
                "    ('Seinfield'),\r\n",
                "    ('Modern Family'),\r\n",
                "    ('Amazing Races'),\r\n",
                "    ('Next Level Chef'),\r\n",
                "    ('One Tree Hill'),\r\n",
                "    ('Gossip Girl'),\r\n",
                "    ('Gilmore Girls'),\r\n",
                "    ('Fire Country'),\r\n",
                "    ('Chicago Fire')\r\n",
                "]"
            ],
            "metadata": {
                "azdata_cell_guid": "8e4f3757-474f-4e20-b861-db973437b541",
                "language": "python"
            },
            "outputs": [
                {
                    "traceback": [
                        "\u001b[1;31m---------------------------------------------------------------------------\u001b[0m",
                        "\u001b[1;31mOperationalError\u001b[0m                          Traceback (most recent call last)",
                        "Cell \u001b[1;32mIn[98], line 2\u001b[0m\n\u001b[0;32m      1\u001b[0m \u001b[38;5;28;01mwith\u001b[39;00m con:\n\u001b[1;32m----> 2\u001b[0m     \u001b[43mcon\u001b[49m\u001b[38;5;241;43m.\u001b[39;49m\u001b[43mexecute\u001b[49m\u001b[43m(\u001b[49m\u001b[38;5;124;43m'''\u001b[39;49m\n\u001b[0;32m      3\u001b[0m \u001b[38;5;124;43m    CREATE TABLE watchlist_top_10 (\u001b[39;49m\n\u001b[0;32m      4\u001b[0m \u001b[38;5;124;43m        title TEXT);\u001b[39;49m\n\u001b[0;32m      5\u001b[0m \u001b[38;5;124;43m    \u001b[39;49m\u001b[38;5;124;43m'''\u001b[39;49m\u001b[43m)\u001b[49m\n\u001b[0;32m      7\u001b[0m sql \u001b[38;5;241m=\u001b[39m \u001b[38;5;124m'\u001b[39m\u001b[38;5;124mINSERT INTO watchlist_top_10 (title) VALUES (?)\u001b[39m\u001b[38;5;124m'\u001b[39m\n\u001b[0;32m      8\u001b[0m data \u001b[38;5;241m=\u001b[39m [\n\u001b[0;32m      9\u001b[0m     (\u001b[38;5;124m'\u001b[39m\u001b[38;5;124mSupernatural\u001b[39m\u001b[38;5;124m'\u001b[39m),\n\u001b[0;32m     10\u001b[0m     (\u001b[38;5;124m'\u001b[39m\u001b[38;5;124mSeinfield\u001b[39m\u001b[38;5;124m'\u001b[39m),\n\u001b[1;32m   (...)\u001b[0m\n\u001b[0;32m     18\u001b[0m     (\u001b[38;5;124m'\u001b[39m\u001b[38;5;124mChicago Fire\u001b[39m\u001b[38;5;124m'\u001b[39m)\n\u001b[0;32m     19\u001b[0m ]\n",
                        "\u001b[1;31mOperationalError\u001b[0m: table watchlist_top_10 already exists"
                    ],
                    "ename": "OperationalError",
                    "evalue": "table watchlist_top_10 already exists",
                    "output_type": "error"
                }
            ],
            "execution_count": 98
        },
        {
            "cell_type": "code",
            "source": [
                "con.executemany(sql, data)\r\n",
                "data = con.execute(\"SELECT * FROM watchlist_top_10\")\r\n",
                "for row in data:\r\n",
                "    print(row)"
            ],
            "metadata": {
                "azdata_cell_guid": "1c2fdb8e-38b5-486d-9e39-aa94ca9d5b2e",
                "language": "python"
            },
            "outputs": [
                {
                    "traceback": [
                        "\u001b[1;31m---------------------------------------------------------------------------\u001b[0m",
                        "\u001b[1;31mProgrammingError\u001b[0m                          Traceback (most recent call last)",
                        "Cell \u001b[1;32mIn[99], line 1\u001b[0m\n\u001b[1;32m----> 1\u001b[0m \u001b[43mcon\u001b[49m\u001b[38;5;241;43m.\u001b[39;49m\u001b[43mexecutemany\u001b[49m\u001b[43m(\u001b[49m\u001b[43msql\u001b[49m\u001b[43m,\u001b[49m\u001b[43m \u001b[49m\u001b[43mdata\u001b[49m\u001b[43m)\u001b[49m\n\u001b[0;32m      2\u001b[0m data \u001b[38;5;241m=\u001b[39m con\u001b[38;5;241m.\u001b[39mexecute(\u001b[38;5;124m\"\u001b[39m\u001b[38;5;124mSELECT * FROM watchlist_top_10\u001b[39m\u001b[38;5;124m\"\u001b[39m)\n\u001b[0;32m      3\u001b[0m \u001b[38;5;28;01mfor\u001b[39;00m row \u001b[38;5;129;01min\u001b[39;00m data:\n",
                        "\u001b[1;31mProgrammingError\u001b[0m: Incorrect number of bindings supplied. The current statement uses 1, and there are 12 supplied."
                    ],
                    "ename": "ProgrammingError",
                    "evalue": "Incorrect number of bindings supplied. The current statement uses 1, and there are 12 supplied.",
                    "output_type": "error"
                }
            ],
            "execution_count": 99
        },
        {
            "cell_type": "markdown",
            "source": [
                "## Working with the Data\n",
                "\n",
                "Using either Pandas or SQL, determine how many shows are on each streaming service and what the mean is for each streaming service. \n",
                "\n",
                "**Note**: You may notice that the mean represents the percentage of shows in the dataframe that are on each streaming service. Take a moment to think about why that is."
            ],
            "metadata": {
                "azdata_cell_guid": "4716090d-63e3-4283-8245-934c4a28c750"
            }
        },
        {
            "cell_type": "code",
            "source": [
                "print(df.describe())\r\n",
                "\r\n",
                "print(df[\"Netflix\"].value_counts())\r\n",
                "print(df[\"Hulu\"].value_counts())\r\n",
                "print(df[\"Prime_Video\"].value_counts())\r\n",
                "print(df[\"Disney\"].value_counts())"
            ],
            "metadata": {
                "azdata_cell_guid": "f95defad-521b-4112-8435-08daaac80b80",
                "language": "python"
            },
            "outputs": [
                {
                    "name": "stdout",
                    "text": "                ID         Year      Netflix         Hulu  Prime_Video  \\\ncount  5368.000000  5368.000000  5368.000000  5368.000000  5368.000000   \nmean   2814.945790  2012.628726     0.367176     0.301975     0.341095   \nstd    1672.385727    10.142813     0.482080     0.459157     0.474122   \nmin       1.000000  1904.000000     0.000000     0.000000     0.000000   \n25%    1345.750000  2011.000000     0.000000     0.000000     0.000000   \n50%    2788.000000  2016.000000     0.000000     0.000000     0.000000   \n75%    4308.250000  2018.000000     1.000000     1.000000     1.000000   \nmax    5717.000000  2021.000000     1.000000     1.000000     1.000000   \n\n            Disney    Type  \ncount  5368.000000  5368.0  \nmean      0.065387     1.0  \nstd       0.247231     0.0  \nmin       0.000000     1.0  \n25%       0.000000     1.0  \n50%       0.000000     1.0  \n75%       0.000000     1.0  \nmax       1.000000     1.0  \n0    3397\n1    1971\nName: Netflix, dtype: int64\n0    3747\n1    1621\nName: Hulu, dtype: int64\n0    3537\n1    1831\nName: Prime_Video, dtype: int64\n0    5017\n1     351\nName: Disney, dtype: int64\n",
                    "output_type": "stream"
                }
            ],
            "execution_count": 92
        },
        {
            "cell_type": "markdown",
            "source": [
                "Join your watchlist data with the shows data to determine which streaming services your watchlist shows are on and make a new table in your database using the joined data. Print out the data in your joined table to see what shows on your watchlist on in the original dataset. With the joined data, determine the percentage of your watchlist shows that are on each streaming service and how many of your watchlist shows are on each streaming service."
            ],
            "metadata": {
                "azdata_cell_guid": "167cbd0d-ad9f-4f27-8066-e45dfdfaf421"
            }
        },
        {
            "cell_type": "code",
            "source": [
                "df= pd.read_sql(\"\"\"SELECT watchlist_top_10.title, shows1.Netflix, shows1.Hulu, shows1.Prime_Video, shows1.Disney\r\n",
                "FROM watchlist_top_10 JOIN shows1 on shows1.Title == watchlist_top_10.title;\r\n",
                "\"\"\", con)\r\n",
                "\r\n",
                "\r\n",
                "print(df)"
            ],
            "metadata": {
                "azdata_cell_guid": "b871523e-a476-4f3a-a6ac-2e251f140e84",
                "language": "python"
            },
            "outputs": [
                {
                    "name": "stdout",
                    "text": "Empty DataFrame\nColumns: [title, Netflix, Hulu, Prime_Video, Disney]\nIndex: []\n",
                    "output_type": "stream"
                }
            ],
            "execution_count": 97
        },
        {
            "cell_type": "markdown",
            "source": [
                "## Results\n",
                "\n",
                "Now that you have done your analysis, make note of the answers to the following questions by editing the text cell:\n",
                "\n",
                "1. Was every show on your watchlist in the Kaggle dataset? Do you have any ideas as to why a show might not have been present?\n",
                "2. Did you include a show or shows in your watchlist that is exclusive to one of the platforms? How might that have impacted your analysis?\n",
                "2. Which streaming service(s) offered the most shows on your watchlist? Which streaming service(s) offered the least?\n",
                "3. Based on the shows you want to watch and the results of your analysis, is there a streaming service you think would be a good fit for you?"
            ],
            "metadata": {
                "azdata_cell_guid": "909689e4-1aae-41e3-b1f8-158ebe5ec3ca"
            }
        }
    ]
}